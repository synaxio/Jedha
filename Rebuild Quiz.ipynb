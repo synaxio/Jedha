{
 "cells": [
  {
   "cell_type": "code",
   "execution_count": null,
   "metadata": {},
   "outputs": [
    {
     "name": "stdout",
     "output_type": "stream",
     "text": [
      "Voici notre quiz, tu as 3 chances !\n",
      "Bravo ! Tu as gagné le quiz !\n"
     ]
    }
   ],
   "source": [
    "class Quizz():\n",
    "\n",
    "    max_try = 1\n",
    "    remains = 1\n",
    "\n",
    "    def __init__(self, questions_dict={}, max_try=1):\n",
    "        self.questions = questions_dict\n",
    "        self.max_try = max_try\n",
    "\n",
    "    def asker(self, question):\n",
    "        while input(question) != self.questions[question]:\n",
    "            self.remains -= 1\n",
    "            print(\"Dommage ! Il te reste {} chances\".format(self.remains))\n",
    "            if self.remains == 0:\n",
    "                break\n",
    "\n",
    "            \n",
    "\n",
    "    def run(self):\n",
    "        self.remains = self.max_try\n",
    "        print(\"Voici notre quiz, tu as {} chances !\".format(self.max_try))\n",
    "\n",
    "        for q in questions.keys():\n",
    "            if self.remains:\n",
    "                self.asker(q)\n",
    "\n",
    "        if self.remains == 0:\n",
    "            print(\"Oh non ! Tu as perdu le jeu...\")\n",
    "        else:\n",
    "            print(\"Bravo ! Tu as gagné le quiz !\")\n",
    "\n",
    "questions = {\"Combien de fois la France a gagné la coupe du monde ?\": \"2\",\n",
    "            \"Quand a été fondé Apple ?\": \"1976\",\n",
    "            \"Qui a fondé SpaceX ?\": \"elon musk\"}\n",
    "\n",
    "quizz = Quizz(questions, 3)\n",
    "\n",
    "quizz.run()\n"
   ]
  }
 ],
 "metadata": {
  "kernelspec": {
   "display_name": "carto",
   "language": "python",
   "name": "python3"
  },
  "language_info": {
   "codemirror_mode": {
    "name": "ipython",
    "version": 3
   },
   "file_extension": ".py",
   "mimetype": "text/x-python",
   "name": "python",
   "nbconvert_exporter": "python",
   "pygments_lexer": "ipython3",
   "version": "3.9.19"
  }
 },
 "nbformat": 4,
 "nbformat_minor": 2
}
