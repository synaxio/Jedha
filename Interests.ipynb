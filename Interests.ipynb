{
 "cells": [
  {
   "cell_type": "markdown",
   "metadata": {},
   "source": [
    "# Interests"
   ]
  },
  {
   "cell_type": "code",
   "execution_count": 9,
   "metadata": {},
   "outputs": [
    {
     "data": {
      "text/plain": [
       "2.5937424601000023"
      ]
     },
     "execution_count": 9,
     "metadata": {},
     "output_type": "execute_result"
    }
   ],
   "source": [
    "import math\n",
    "\n",
    "def interests(start_amount, nb_years, rate):\n",
    "    try:\n",
    "        if type(start_amount) == str: \n",
    "            raise ValueError('amount ne peut pas être string')\n",
    "        if (start_amount < 0) or (nb_years < 0) or (rate < 0): \n",
    "            raise ValueError('les chiffres doivent être positifs')\n",
    "        if rate > 1: \n",
    "            raise ValueError('Le taux doit être saisi sous forme numérique. Exemple: 10% => 0.1')\n",
    "\n",
    "    except ValueError as e:\n",
    "        print(e)\n",
    "\n",
    "    else:\n",
    "        return start_amount*(1+rate)**nb_years\n",
    "\n",
    "interests(1,10,0.1)"
   ]
  }
 ],
 "metadata": {
  "kernelspec": {
   "display_name": "carto",
   "language": "python",
   "name": "python3"
  },
  "language_info": {
   "codemirror_mode": {
    "name": "ipython",
    "version": 3
   },
   "file_extension": ".py",
   "mimetype": "text/x-python",
   "name": "python",
   "nbconvert_exporter": "python",
   "pygments_lexer": "ipython3",
   "version": "3.9.19"
  }
 },
 "nbformat": 4,
 "nbformat_minor": 2
}
